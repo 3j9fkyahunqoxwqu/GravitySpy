{
 "cells": [
  {
   "cell_type": "code",
   "execution_count": 12,
   "metadata": {
    "collapsed": true
   },
   "outputs": [],
   "source": [
    "%matplotlib inline "
   ]
  },
  {
   "cell_type": "markdown",
   "metadata": {},
   "source": [
    "First, we must import the needed modules to load and work with the data"
   ]
  },
  {
   "cell_type": "code",
   "execution_count": 19,
   "metadata": {
    "collapsed": false
   },
   "outputs": [],
   "source": [
    "import numpy as np\n",
    "from scipy.io import loadmat\n",
    "import matplotlib.pyplot as plt\n",
    "import pandas as pd\n",
    "import matplotlib.colors as colors\n",
    "import sys\n",
    "sys.path.insert(0, \"C:\\\\Users\\\\Luke\\\\Documents\\\\GravitySpy\\\\GravitySpy\\\\ML\\\\PythonNUCC\")\n",
    "sys.path.insert(0, \"C:\\\\Users\\\\Luke\\\\Documents\\\\GravitySpy\\\\GravitySpy\\\\ML\\\\SyracuseCC\")\n",
    "import gen_data\n",
    "import read_data"
   ]
  },
  {
   "cell_type": "markdown",
   "metadata": {},
   "source": [
    "# Understanding the variables\n",
    "\n",
    "We will now simulate the data and package this information in such a way that it persumably could come to the Crowd-Sourcing Classifier (CC) from the Zooniverse server\n",
    "\n",
    "We have four sets of variables to create and discuss as we go through this notebook.\n",
    "\n",
    "[retired_images](#retired_images): A panda structure with columns \n",
    "\n",
    "    'imageID' (int) - ID of the image \n",
    "    'class' (int) - what class they were retired into.\n",
    "\n",
    "[conf_matrices](#conf_matrices): A panda structure with columns \n",
    "\n",
    "    'userID' (int) - ID of user\n",
    "    'conf_matrix' (np.array) - the confusion matrix of the user\n",
    "\n",
    "[PP_matrices](#PP_matrices): A panda structure with columns \n",
    "\n",
    "    'imageID' (int) - ID of the image\n",
    "    'pp_matrix' (np.array) - the prior (if it exists) of the image based on user eval.\n",
    "\n",
    "[images](#images): A panda structure with columns\n",
    "\n",
    "    'type' (string) - A label, either 'T' or 'G', to determine if the image \n",
    "    is a ML classified label or a pre-labelled \"golden\" image\n",
    "\n",
    "    'labels' (np.array) - A 1XN row vector where N is the number\n",
    "    of labels this image has been given at a certain time. Each column\n",
    "    is a different answer that is associated with a different user.\n",
    "    This takes us to the next column\n",
    "\n",
    "    'userIDs' (np.array) - A 1XN row vector where N is the number of labels \n",
    "    this image has been given. Each userID is associated with one label\n",
    "    applied to the image in the labels column\n",
    "\n",
    "    'ML_posterior' (np.array) - A 1XC row vector where C is the number of \n",
    "    pre-determined morphologies that the classifier has been trained on.\n",
    "    Each column is the ML confidence that the image belongs in one of the C classes\n",
    "\n",
    "    'truelabel' (int) - For images labelled 'T' this values is set to -1\n",
    "    but for images labelled 'G' This value indicates the \"true\" class\n",
    "    that this image belongs in for the purposes of comparing a citizens\n",
    "    classification with this true label.\n",
    "       \n",
    "    'imageID' (int) - ID of the image"
   ]
  },
  {
   "cell_type": "code",
   "execution_count": 14,
   "metadata": {
    "collapsed": false
   },
   "outputs": [],
   "source": [
    "# retired images and PP_matrices starts out blank as we assume we have not seen any images at the outset of the CC. A\n",
    "retired_images = pd.DataFrame({ 'imageID' : [], 'class' : []})\n",
    "PP_matrices    = pd.DataFrame({ 'imageID' : [],'pp_matrix' : []})\n",
    "images,conf_matrices = gen_data.gen_data()"
   ]
  },
  {
   "cell_type": "markdown",
   "metadata": {},
   "source": [
    "<a id='conf_matrices'></a>\n",
    "## Confusion Matrices\n",
    "Let's talk about the conf_matrices variable that stores the confusion matrices of all the users. This information which is a panda structure will be a NX2 array where N is the number of users. In each row, we have one column that contains the CXC \"confusion matrix\", where C is the number of classes, for that user and another that contains the ID of that user. A perfectly skilled user would only have values on the diagonal of this matrix and all off diagonal values indicate wrong answers were given. Right or wrong answers are given with respect to either golden images which are pre-labelled images or to images that are retired through the pipeline. How we identify those images from the Zooniverse site that are in this \"golden set\" will come later. To illustrate this we'll print out one user's simualted confusion matrix. "
   ]
  },
  {
   "cell_type": "code",
   "execution_count": 3,
   "metadata": {
    "collapsed": false
   },
   "outputs": [
    {
     "name": "stdout",
     "output_type": "stream",
     "text": [
      "[[ 189.    5.    2.    5.    1.    1.    5.    2.    5.    3.    4.    2.\n",
      "     4.    2.    1.]\n",
      " [   4.  182.    4.    1.    1.    2.    2.    2.    5.    3.    3.    3.\n",
      "     1.    5.    4.]\n",
      " [   4.    4.  193.    3.    1.    3.    4.    4.    2.    5.    4.    5.\n",
      "     5.    5.    1.]\n",
      " [   1.    3.    3.  195.    5.    1.    2.    3.    3.    5.    3.    5.\n",
      "     4.    4.    3.]\n",
      " [   2.    3.    1.    1.  190.    2.    5.    3.    3.    4.    2.    2.\n",
      "     4.    2.    1.]\n",
      " [   1.    3.    2.    2.    4.  206.    4.    5.    2.    1.    2.    5.\n",
      "     5.    4.    4.]\n",
      " [   3.    3.    1.    2.    5.    5.  182.    5.    4.    2.    4.    1.\n",
      "     5.    2.    3.]\n",
      " [   1.    4.    1.    5.    2.    5.    4.  218.    3.    3.    4.    2.\n",
      "     1.    2.    5.]\n",
      " [   4.    5.    3.    1.    1.    4.    4.    5.  188.    1.    5.    4.\n",
      "     4.    1.    3.]\n",
      " [   5.    2.    2.    3.    5.    1.    3.    5.    4.  214.    4.    4.\n",
      "     5.    2.    2.]\n",
      " [   2.    1.    3.    1.    1.    2.    5.    4.    1.    5.  197.    5.\n",
      "     4.    5.    4.]\n",
      " [   1.    3.    4.    5.    2.    1.    1.    5.    2.    1.    1.  218.\n",
      "     3.    3.    2.]\n",
      " [   4.    4.    1.    2.    4.    5.    5.    1.    1.    1.    4.    1.\n",
      "   189.    1.    3.]\n",
      " [   3.    5.    3.    3.    4.    5.    1.    1.    2.    3.    4.    4.\n",
      "     3.  219.    5.]\n",
      " [   3.    5.    2.    1.    2.    2.    1.    1.    1.    2.    3.    1.\n",
      "     5.    3.  211.]]\n"
     ]
    }
   ],
   "source": [
    "sample_conf_matrix = np.load('sample_conf_matrix.npy')\n",
    "print(sample_conf_matrix) #print sample confusion matrix of a user"
   ]
  },
  {
   "cell_type": "markdown",
   "metadata": {},
   "source": [
    "For example, the value in the first row, second column is a 3. This indicates that the user classified 3 images in class 2, when really they should be in class 1. Confusion matrices are used to indicate a users skill level\n",
    "\n",
    "Here's a good visualization of the matrix in heat map form:"
   ]
  },
  {
   "cell_type": "code",
   "execution_count": 4,
   "metadata": {
    "collapsed": false
   },
   "outputs": [],
   "source": [
    "plt.matshow(sample_conf_matrix, cmap='Blues', norm=colors.LogNorm(vmin=sample_conf_matrix.min(), vmax=sample_conf_matrix.max()))\n",
    "plt.colorbar()\n",
    "plt.xlabel('classes')\n",
    "plt.ylabel('classes')\n",
    "plt.title('Visualization of confusion matrix \\n')\n",
    "ax = plt.gca()\n",
    "ax.set_xticks(np.arange(0,15,1))\n",
    "ax.set_yticks(np.arange(0,15,1))\n",
    "plt.show()"
   ]
  },
  {
   "cell_type": "markdown",
   "metadata": {},
   "source": [
    "As this heatmap changes everytime the notebook is run we can only make general comments. Ideally, the user would have a dark blue diagonal tiles and white tiles everywhere else. The darker the off tiles are the worse user is at classifying. That being said, sometimes we can expect that a given class, say class 6, will have a dark blue spot along the diagonal where it intersects with column 6 and is otherwise white except for one other column which would indicate the other class that this user confuses class 6 with."
   ]
  },
  {
   "cell_type": "markdown",
   "metadata": {},
   "source": [
    "<a id='images'></a>\n",
    "## Images (i.e. batches of Zooniverse data)\n",
    "Now, we will define the main function that evaluates the batches of images labeled by users. The Zooniverse server (specifically Nero https://github.com/zooniverse/nero) will continuously send data (image batches) to be evaluated. \n",
    "\n",
    "Lets look at the data we would expect to have for every image."
   ]
  },
  {
   "cell_type": "code",
   "execution_count": 5,
   "metadata": {
    "collapsed": false
   },
   "outputs": [
    {
     "name": "stdout",
     "output_type": "stream",
     "text": [
      "type                                                            T\n",
      "labels          [12, 12, 12, 12, 12, 12, 12, 12, 12, 12, 12, 1...\n",
      "userIDs         [5, 2, 9, 22, 1, 23, 24, 21, 7, 0, 14, 3, 20, ...\n",
      "ML_posterior    [0.0197605730029, 0.0197605730029, 0.019760573...\n",
      "truelabel                                                      -1\n",
      "imageID                                                       135\n",
      "Name: 0, dtype: object\n"
     ]
    }
   ],
   "source": [
    "sample_image = pd.read_pickle('sample_image')\n",
    "print(sample_image) #print data for sample image"
   ]
  },
  {
   "cell_type": "markdown",
   "metadata": {},
   "source": [
    "Okay, thats a lot of information for one image. Let's breakdown what each of these variables represents for a given image. In the next section, we will discuss various ways to access and utilize these panda structures."
   ]
  },
  {
   "cell_type": "code",
   "execution_count": 6,
   "metadata": {
    "collapsed": false
   },
   "outputs": [
    {
     "name": "stdout",
     "output_type": "stream",
     "text": [
      "imageID: 135 \n",
      "\n",
      "userIDs: [ 5  2  9 22  1 23 24 21  7  0 14  3 20 18 19  6 13 15 25 17 11 16 10  8 12] \n",
      "\n",
      "labels: [12 12 12 12 12 12 12 12 12 12 12 12  6 12  1  4 11  8 10  6  6  1  8  0 13]\n"
     ]
    }
   ],
   "source": [
    "print(\"imageID:\", sample_image['imageID'], \"\\n\")\n",
    "\n",
    "print(\"userIDs:\", sample_image['userIDs'], \"\\n\")\n",
    "\n",
    "print(\"labels:\", sample_image['labels'])"
   ]
  },
  {
   "cell_type": "markdown",
   "metadata": {},
   "source": [
    "imageID: the ID of the this image\n",
    "\n",
    "userIDs: the ID of the users who classified this image\n",
    "\n",
    "labels: the classification made by the users for this image"
   ]
  },
  {
   "cell_type": "code",
   "execution_count": 11,
   "metadata": {
    "collapsed": false
   },
   "outputs": [
    {
     "name": "stdout",
     "output_type": "stream",
     "text": [
      "T \n",
      "\n",
      "G \n",
      "\n",
      "-1 \n",
      "\n",
      "8 \n",
      "\n",
      "[ 0.01745566  0.01745566  0.01745566  0.75562076  0.01745566  0.01745566\n",
      "  0.01745566  0.01745566  0.01745566  0.01745566  0.01745566  0.01745566\n",
      "  0.01745566  0.01745566  0.01745566] \n",
      "\n",
      "0.0 \n",
      "\n"
     ]
    }
   ],
   "source": [
    "print images['type'][0], \"\\n\"\n",
    "print images.iloc[-1,:]['type'], \"\\n\"\n",
    "\n",
    "print images['truelabel'][0], \"\\n\"\n",
    "print images.iloc[-1,:]['truelabel'], \"\\n\"\n",
    "\n",
    "print images['ML_posterior'][0], \"\\n\"\n",
    "print images.iloc[-1,:]['ML_posterior'], \"\\n\""
   ]
  },
  {
   "cell_type": "markdown",
   "metadata": {},
   "source": [
    "Every image can be one of two types,\n",
    "\n",
    "An image with type'T' means it is NOT a golden image (pre-labelled by a human) and has only received labelling from the Machine Learning Classifier. \n",
    "\n",
    "An image with type 'G' is a golden image and has been pre-labelled.\n",
    "\n",
    "The true label only has meaning for images that have been pre-labelled. If it has been pre-labelled then it has a class associated with it already. If it has not been pre-labelled, i.e. type 'T', then it defaults to a true label value -1 (i.e. no true label).\n",
    "\n",
    "Finally,the ML_posterior assosciated with an image. For images labelled 'G' they have no ML posterior because they are pre-labelled by people. For image labelled 'T', this represents that ML Classifiers confidence that the image should be labelled as in a given class.\n",
    "\n",
    "Now that we understand the structure of 'images' and how to access specific image information, lets move on to evaluating image retirement and user performance."
   ]
  },
  {
   "cell_type": "markdown",
   "metadata": {},
   "source": [
    "# Understanding the CrowdSourcing Classifier\n",
    "The CrowdSourcing Classifiers has two tasks. First, to evaluate the retirability of an image into a given class and to evaluate user performance and promote users to different levels if need be.\n",
    "\n",
    "Initialize R_lim, the limit on how many people can look at an image, and it is not retired, before it is passed onto a higher skill level"
   ]
  },
  {
   "cell_type": "code",
   "execution_count": 64,
   "metadata": {
    "collapsed": true
   },
   "outputs": [],
   "source": [
    "R_lim = 23"
   ]
  },
  {
   "cell_type": "markdown",
   "metadata": {},
   "source": [
    "Initialize N, the number of images in a batch"
   ]
  },
  {
   "cell_type": "code",
   "execution_count": 65,
   "metadata": {
    "collapsed": false
   },
   "outputs": [],
   "source": [
    "N = images['type'].size"
   ]
  },
  {
   "cell_type": "markdown",
   "metadata": {},
   "source": [
    "initialize C, the number of morphologies (classes)"
   ]
  },
  {
   "cell_type": "code",
   "execution_count": 66,
   "metadata": {
    "collapsed": false
   },
   "outputs": [],
   "source": [
    " for i in range(N):\n",
    "        if images['type'][i] == 'T':\n",
    "            C = images['ML_posterior'][i].size\n",
    "            break"
   ]
  },
  {
   "cell_type": "markdown",
   "metadata": {},
   "source": [
    "Initialize a flat prior. Essentially this means before any more information is known, we assume each image has an equal probability of being in each of the 15 classes"
   ]
  },
  {
   "cell_type": "code",
   "execution_count": 67,
   "metadata": {
    "collapsed": false
   },
   "outputs": [
    {
     "name": "stdout",
     "output_type": "stream",
     "text": [
      "[[ 0.06666667  0.06666667  0.06666667  0.06666667  0.06666667  0.06666667\n",
      "   0.06666667  0.06666667  0.06666667  0.06666667  0.06666667  0.06666667\n",
      "   0.06666667  0.06666667  0.06666667]]\n"
     ]
    }
   ],
   "source": [
    "priors = np.ones((1,C))/C\n",
    "print priors"
   ]
  },
  {
   "cell_type": "markdown",
   "metadata": {},
   "source": [
    "Initialize varaibles b and t. \n",
    "\n",
    "    t - a CX1 column vector where C is the number of pre-determined morphologies and where each row is the predetermined certainty threshold that an image must surpass to be considered part of class C. Here all classes have the same threshold but in realty different categories will have more difficult or more relaxed thresholds for determination of class and, as a result, retirability.\n",
    "\n",
    "    b - a CX1 column vector where C is the number of pre-determined morphologies and where each row is the predetermined threshold for whether or not a ML labelled image can be considered as a golden image for the purposes of updating the users confusion matrices."
   ]
  },
  {
   "cell_type": "code",
   "execution_count": 68,
   "metadata": {
    "collapsed": false
   },
   "outputs": [],
   "source": [
    "b = .4*np.ones((C,1))\n",
    "t = .4*np.ones((C,1))"
   ]
  },
  {
   "cell_type": "markdown",
   "metadata": {},
   "source": [
    "initialize a decision matrix that holds the decision for each image"
   ]
  },
  {
   "cell_type": "code",
   "execution_count": 69,
   "metadata": {
    "collapsed": false
   },
   "outputs": [],
   "source": [
    " dec_matrix = np.zeros((1,N))"
   ]
  },
  {
   "cell_type": "markdown",
   "metadata": {},
   "source": [
    "initialize a class matrix that holds the True labels of each image. (corresponds one to one to decision matrix)"
   ]
  },
  {
   "cell_type": "code",
   "execution_count": 70,
   "metadata": {
    "collapsed": false
   },
   "outputs": [],
   "source": [
    "class_matrix = np.zeros((1,N))"
   ]
  },
  {
   "cell_type": "markdown",
   "metadata": {},
   "source": [
    "initialize a list to hold the pp_matrices for each images. We'll talk about the importance of pp_matrices later. Note that pp_matrix and posterior matrix may be used interchangeably. "
   ]
  },
  {
   "cell_type": "code",
   "execution_count": 71,
   "metadata": {
    "collapsed": true
   },
   "outputs": [],
   "source": [
    "pp_matrices_rack = []"
   ]
  },
  {
   "cell_type": "markdown",
   "metadata": {},
   "source": [
    "Now lets look at how a decision for an image is made. The decider function takes in an images posterior matrix, Machine learning decision, number of annotators, and R_lim as arguments, and uses that information to decide the next step for the image."
   ]
  },
  {
   "cell_type": "code",
   "execution_count": 72,
   "metadata": {
    "collapsed": true
   },
   "outputs": [],
   "source": [
    "def decider(pp_matrix, ML_dec, t, R_lim, num_annotators): #define the decider function with given arguments\n",
    "    pp_matrix2 = np.hstack((pp_matrix, ML_dec.reshape((15,1)))) #Include ML_decision in posterior matrix\n",
    "    v = np.sum(pp_matrix2, axis=1)/np.sum(np.sum(pp_matrix)) #create vector of normalized sums of pp_matrix2 \n",
    "    maximum = np.amax(v) #initialize maximum, max value of v\n",
    "    maxIdx = np.argmax(v) #initialize maxIdx, index of max value of v\n",
    "\n",
    "    if maximum >= t[maxIdx]: #if maximum is above threshold for that specific class\n",
    "\n",
    "        decision = 1 #retire the image\n",
    "        print('Image is retired')\n",
    "\n",
    "    elif num_annotators >= R_lim: #if more than R_lim annotators have looked at image and no decision reached\n",
    "\n",
    "        decision = 2 #pass image on to next user skill class\n",
    "        print('Image is given to the upper class')\n",
    "\n",
    "    else: #if fewer than R_lim annotators have looked at image\n",
    "\n",
    "        decision = 3 #keep image in same class\n",
    "        print('More labels are needed for the image')\n",
    "\n",
    "    image_class = maxIdx #set image_class \n",
    "\n",
    "    return decision, image_class #return the decision, and image class"
   ]
  },
  {
   "cell_type": "markdown",
   "metadata": {},
   "source": [
    "The next chunk of code is used to update users confusion matrices, images posterior matrices (PP_matrix), and to make decisions on the future of an image."
   ]
  },
  {
   "cell_type": "code",
   "execution_count": 73,
   "metadata": {
    "collapsed": false,
    "scrolled": true
   },
   "outputs": [
    {
     "name": "stdout",
     "output_type": "stream",
     "text": [
      "Image is retired\n",
      "Image is retired\n",
      "Image is retired\n",
      "Image is given to the upper class\n",
      "Image is retired\n",
      "Image is retired\n",
      "Image is retired\n",
      "Image is retired\n",
      "Image is retired\n",
      "Image is given to the upper class\n",
      "Image is retired\n",
      "Image is given to the upper class\n",
      "Image is retired\n",
      "Image is retired\n",
      "Image is retired\n",
      "Image is retired\n",
      "Image is given to the upper class\n",
      "Image is retired\n",
      "Image is retired\n",
      "Image is given to the upper class\n",
      "Image is retired\n",
      "Image is retired\n",
      "Image is retired\n",
      "More labels are needed for the image\n",
      "Image is retired\n",
      "Image is retired\n",
      "Image is retired\n",
      "Image is retired\n",
      "Image is retired\n",
      "Image is retired\n",
      "Image is retired\n",
      "Image is given to the upper class\n",
      "Image is retired\n",
      "Image is retired\n",
      "Image is retired\n",
      "Image is retired\n",
      "Image is retired\n",
      "Image is given to the upper class\n",
      "Image is given to the upper class\n",
      "More labels are needed for the image\n",
      "Image is retired\n",
      "Image is retired\n",
      "Image is retired\n",
      "Image is given to the upper class\n",
      "Image is retired\n",
      "Image is retired\n",
      "Image is retired\n",
      "Image is given to the upper class\n",
      "Image is retired\n",
      "Image is retired\n",
      "Image is given to the upper class\n",
      "Image is retired\n",
      "Image is retired\n",
      "Image is retired\n",
      "Image is retired\n",
      "Image is retired\n",
      "Image is retired\n",
      "Image is retired\n",
      "Image is retired\n",
      "Image is given to the upper class\n",
      "Image is retired\n",
      "Image is retired\n",
      "More labels are needed for the image\n",
      "Image is retired\n",
      "Image is given to the upper class\n",
      "Image is retired\n",
      "Image is retired\n",
      "Image is retired\n",
      "Image is given to the upper class\n",
      "Image is retired\n",
      "Image is given to the upper class\n",
      "Image is retired\n",
      "Image is retired\n",
      "Image is given to the upper class\n",
      "More labels are needed for the image\n",
      "Image is given to the upper class\n",
      "Image is given to the upper class\n",
      "Image is retired\n",
      "Image is retired\n",
      "Image is retired\n",
      "Image is retired\n",
      "Image is given to the upper class\n",
      "More labels are needed for the image\n",
      "Image is retired\n",
      "Image is retired\n",
      "Image is retired\n",
      "Image is retired\n",
      "Image is given to the upper class\n",
      "Image is retired\n",
      "Image is given to the upper class\n",
      "Image is given to the upper class\n",
      "Image is retired\n",
      "Image is retired\n",
      "Image is retired\n",
      "Image is retired\n",
      "Image is retired\n",
      "Image is retired\n",
      "Image is retired\n",
      "Image is retired\n",
      "Image is retired\n",
      "The image is from the training set\n",
      "The image is from the training set\n",
      "The image is from the training set\n",
      "The image is from the training set\n",
      "The image is from the training set\n",
      "The image is from the training set\n",
      "The image is from the training set\n",
      "The image is from the training set\n",
      "The image is from the training set\n",
      "The image is from the training set\n",
      "The image is from the training set\n",
      "The image is from the training set\n",
      "The image is from the training set\n",
      "The image is from the training set\n",
      "The image is from the training set\n",
      "The image is from the training set\n",
      "The image is from the training set\n",
      "The image is from the training set\n",
      "The image is from the training set\n",
      "The image is from the training set\n"
     ]
    }
   ],
   "source": [
    "    for i in range(N):\n",
    "\n",
    "        if images['type'][i] == 'G': #check if golden set image\n",
    "            labels  = images['labels'][i] #take citizen labels of image\n",
    "            userIDs = images['userIDs'][i] #take IDs of citizens who label image\n",
    "            tlabel  = images['truelabel'][i] #take true label of image\n",
    "\n",
    "            for ii in range(userIDs.size): #iterate over user IDs of image\n",
    "\n",
    "                indicator = 0\n",
    "\n",
    "                for cc in range(len(conf_matrices)): #iterate over confusion matrices\n",
    "\n",
    "                    if userIDs[ii] == conf_matrices['userID'][cc]: #if user is registered\n",
    "\n",
    "                        #take confusion matrix of citizen and index by true label, label given by user and update the confusion matrix at that entry.\n",
    "                        conf_matrices['conf_matrix'][cc][tlabel,labels[ii]] += 1\n",
    "                        indicator = 1\n",
    "\n",
    "                if indicator == 0: #if user not registered\n",
    "\n",
    "                    dummy_matrix = np.zeros((C,C)) #create dummy matrix\n",
    "                    dummy_matrix[tlabel,labels[ii]] += 1 #update dummy matrix\n",
    "                    tmp = pd.DataFrame({ 'userID' : [userIDs[ii]],'conf_matrix' : [dummy_matrix]},index = [len(conf_matrices)])\n",
    "                    conf_matrices = conf_matrices.append(tmp)\n",
    "\n",
    "            dec_matrix[0,i] = 0 #since it is a training image, no decision is made\n",
    "            class_matrix[0,i] = tlabel #class of image is its true label\n",
    "            pp_matrices_rack.append([0])\n",
    "            print('The image is from the training set')\n",
    "\n",
    "        else: #if image not in golden set, i.e. has ML label but no true label\n",
    "\n",
    "            indicator1 = 0\n",
    "\n",
    "            for kk in range(len(retired_images)): #loop over retired images\n",
    "\n",
    "                if images['imageID'][i] == retired_images['imageID'][kk]: #if image is retired\n",
    "                    indicator1 = 1\n",
    "                    dec_matrix[0,i] = -1 #give invalid decision\n",
    "                    pp_matrices_rack.append([0])\n",
    "                    break\n",
    "\n",
    "            if indicator1 == 0: #if image is not retired\n",
    "\n",
    "                labels           = images['labels'][i] #take citizen labels of image\n",
    "                userIDs          = images['userIDs'][i] #take IDs of citizens who label image\n",
    "                num_annotators   = labels.size #define number of citizens who annotate image\n",
    "                ML_dec           = images['ML_posterior'][i] #take ML posteriors of image\n",
    "                imageID          = images['imageID'][i] #take ID of image\n",
    "                image_prior      = priors #set priors for image to original priors\n",
    "\n",
    "                for y in range(len(PP_matrices)): #iterate over posterior matrices\n",
    "\n",
    "                    if imageID == PP_matrices['imageID'][y]: #find posterior matrix for the image\n",
    "                        image_prior = np.sum(PP_matrices['pp_matrix'][y],axis=1)/np.sum(PP_matrices['pp_matrix'][y]) #if image labeled but not retired, PP_matrix information is used in the place of priors\n",
    "                        break\n",
    "\n",
    "                pp_matrix = np.zeros((C,num_annotators)) #create posterior matrix\n",
    "                \n",
    "                for k in range(num_annotators): #iterate over citizens that labeled image\n",
    "                    for iN in range(len(conf_matrices)): #iterate over confusion matrices\n",
    "\n",
    "                        if userIDs[k] == conf_matrices['userID'][iN]: #find confusion matrix corresponding to citizen\n",
    "\n",
    "                            conf = conf_matrices['conf_matrix'][iN] #take confusion matrix of citizen\n",
    "                            break\n",
    "\n",
    "                    conf_divided,x,z,s = np.linalg.lstsq(np.diag(np.sum(conf,axis=1)),conf) #calculate p(l|j) value\n",
    "\n",
    "                    for j in range(C): #iterate over classes\n",
    "\n",
    "                        pp_matrix[j,k] = (conf_divided[j,labels[k]]*priors[0][j])/sum(conf_divided[:,labels[k]]*priors[0]) #calculate posteriors\n",
    "                pp_matrices_rack.append(pp_matrix) #assign values to pp_matrices_rack\n",
    "\n",
    "\n",
    "                dec_matrix[0,i], class_matrix[0,i] = decider(pp_matrix, ML_dec, t, R_lim, num_annotators) #make decisions for each image in batch\n",
    "    for i in range(N):\n",
    "        if dec_matrix[0,i] == 1: #if image is retired\n",
    "            labels = images['labels'][i] #the citizen label of the image is taken\n",
    "            userIDs = images['userIDs'][i] #the IDs of the citizens that labeld that image are taken\n",
    "            for ii in range(userIDs.size): #iterate over user IDs of image\n",
    "\n",
    "                indicator2 = 0\n",
    "\n",
    "                for cc in range(len(conf_matrices)): #iterate over confusion matrices\n",
    "\n",
    "                    if userIDs[ii] == conf_matrices['userID'][cc]: #if user is registered\n",
    "\n",
    "                        #take confusion matrix of citizen and index by true label, label given by user and update the confusion matrix at that entry.\n",
    "                        conf_matrices['conf_matrix'][cc][tlabel,labels[ii]] += 1\n",
    "                        indicator2 = 1\n",
    "\n",
    "                if indicator2 == 0: #if user not registered\n",
    "\n",
    "                    dummy_matrix = np.zeros((C,C)) #create dummy matrix\n",
    "                    dummy_matrix[tlabel,labels[ii]] += 1 #update dummy matrix\n",
    "                    tmp = pd.DataFrame({ 'userID' : [userIDs[ii]],'conf_matrix' : [dummy_matrix]},index = [len(conf_matrices)])\n",
    "                    conf_matrices = conf_matrices.append(tmp)\n",
    "\n",
    "    # Ordering the images and sending/saving them\n",
    "    counter1 = len(retired_images)\n",
    "    counter2 = len(PP_matrices)\n",
    "\n",
    "    for i in range(N):\n",
    "\n",
    "        if dec_matrix[0,i] == 1: # if it is decided to be retired\n",
    "            tmp = pd.DataFrame({ 'imageID' : [images['imageID'][i]],'class' : [class_matrix[0,i]]},index = [counter1])\n",
    "            retired_images = retired_images.append(tmp)\n",
    "\n",
    "            counter1 = counter1 + 1\n",
    "\n",
    "        elif dec_matrix[0,i] == 2 or dec_matrix[0,i] == 3:  #if the decision is forwarding to the upper class or wait for more labels\n",
    "\n",
    "            dummy_decider = 1\n",
    "\n",
    "            for y in range(len(PP_matrices)):        #in case the image was waiting for more labels beforehand\n",
    "\n",
    "                if images['imageID'][i] == PP_matrices['imageID'][y]:\n",
    "                    PP_matrices['pp_matrix'][y] = pp_matrices_rack[i]      #the PP matrix is overwritten.\n",
    "                    dummy_decider = 0\n",
    "                    break\n",
    "\n",
    "            if dummy_decider:\n",
    "                tmp = pd.DataFrame({ 'imageID' : [images['imageID'][i]],'pp_matrix' : [pp_matrices_rack[i]]},index = [counter2])\n",
    "                PP_matrices = PP_matrices.append(tmp)\n",
    "\n",
    "                counter2 = counter2 + 1"
   ]
  },
  {
   "cell_type": "markdown",
   "metadata": {},
   "source": [
    "We have all these user classifications, but how can we actually incorporate them all into one cohesive result? To do this, we use a posterior matrix to store the classifications on one image from every user. This means that every image has one unique pp_matrix. Before we talk about what the elements in the pp_matrices actually mean, lets look into how the posterior matrices are actually populated. The following snippet of code was taken directly from the big chunk of code above. Lets run it, printing the pp_matrix it generates."
   ]
  },
  {
   "cell_type": "code",
   "execution_count": 74,
   "metadata": {
    "collapsed": false
   },
   "outputs": [
    {
     "name": "stdout",
     "output_type": "stream",
     "text": [
      "[[ 0.00868088  0.01232341  0.01075473  0.00392756  0.02132924  0.01796496\n",
      "   0.01208113  0.0078098   0.01621727  0.00384825  0.00808441  0.02003087\n",
      "   0.00365761  0.01823373  0.0190444   0.01144401  0.81422003  0.01731951\n",
      "   0.01976516  0.01292434  0.01985912  0.01287735  0.01197084  0.00801721]\n",
      " [ 0.00419331  0.01192588  0.01983957  0.01701372  0.01812511  0.01179606\n",
      "   0.00428409  0.02077074  0.00417771  0.01211486  0.01778873  0.00875033\n",
      "   0.01624226  0.01184439  0.00715608  0.01282342  0.0039585   0.00438469\n",
      "   0.01952798  0.01473309  0.01493167  0.00906406  0.00838635  0.01996593]\n",
      " [ 0.01596162  0.004324    0.01820572  0.01459229  0.01307099  0.0042819\n",
      "   0.01643691  0.00765667  0.01211184  0.01986444  0.00805016  0.01231528\n",
      "   0.0038955   0.02059154  0.01493443  0.01299749  0.02082069  0.00811852\n",
      "   0.0116238   0.01484642  0.01132649  0.00801964  0.00451867  0.01702014]\n",
      " [ 0.01221754  0.0112457   0.02210694  0.01830894  0.00424807  0.01263161\n",
      "   0.01591717  0.00871629  0.01483974  0.01909151  0.0040769   0.01690741\n",
      "   0.01864384  0.00419056  0.01299912  0.02476247  0.02029358  0.01199043\n",
      "   0.01181128  0.00387557  0.02149255  0.00412875  0.01257952  0.00420335]\n",
      " [ 0.01564618  0.01540426  0.0035988   0.01178269  0.01194771  0.00422816\n",
      "   0.00815191  0.0117147   0.01489726  0.0164925   0.00420318  0.01216509\n",
      "   0.01774617  0.02041555  0.01129007  0.01538124  0.00377222  0.01823106\n",
      "   0.01157785  0.00828341  0.01970151  0.00815386  0.00895556  0.00447512]\n",
      " [ 0.01903117  0.01971746  0.01450768  0.01701372  0.00882717  0.01312375\n",
      "   0.01198525  0.01870162  0.01269876  0.02079033  0.01455814  0.00785462\n",
      "   0.00369997  0.00394813  0.01859454  0.00365451  0.00404166  0.00778405\n",
      "   0.80889957  0.00364157  0.00845069  0.00405994  0.00842204  0.01654547]\n",
      " [ 0.00402285  0.01603045  0.01522117  0.0176296   0.01137031  0.00396286\n",
      "   0.00416017  0.01479129  0.00787601  0.0156383   0.01461413  0.00400617\n",
      "   0.01734467  0.01753115  0.00783902  0.00733703  0.00769533  0.00476684\n",
      "   0.00715311  0.0116736   0.01201156  0.83748877  0.0199514   0.01829477]\n",
      " [ 0.02123649  0.01222156  0.00368449  0.01558457  0.0085317   0.01597674\n",
      "   0.00789616  0.01568233  0.01562395  0.00402174  0.01812821  0.00415641\n",
      "   0.0190895   0.01235493  0.00385552  0.01657978  0.01971139  0.00445996\n",
      "   0.00830978  0.01615092  0.80362113  0.01577953  0.01558408  0.00891183]\n",
      " [ 0.80030192  0.81101995  0.78441537  0.81509236  0.82617703  0.80842325\n",
      "   0.83820821  0.81558022  0.79639924  0.79512731  0.81902407  0.82980984\n",
      "   0.82676271  0.79320178  0.81129161  0.80317707  0.01182683  0.00844854\n",
      "   0.01842262  0.80611884  0.02177535  0.01265436  0.82911535  0.00439927]\n",
      " [ 0.02939467  0.02315809  0.03158135  0.03324353  0.03121033  0.03021515\n",
      "   0.03168129  0.03003769  0.03040737  0.02652172  0.03286915  0.02209735\n",
      "   0.02465063  0.03132615  0.02076049  0.0307872   0.01923832  0.02120756\n",
      "   0.02519739  0.03153651  0.02206569  0.02138151  0.0428822   0.01777788]\n",
      " [ 0.02096654  0.01187799  0.01141588  0.00409259  0.00417843  0.0125792\n",
      "   0.01579233  0.01944671  0.01568772  0.01823984  0.00725128  0.01159927\n",
      "   0.01249948  0.0123019   0.01133523  0.01172427  0.01828737  0.00834675\n",
      "   0.01907029  0.01907149  0.00386364  0.00770266  0.00831588  0.01314213]\n",
      " [ 0.00403927  0.01534432  0.02432729  0.02004188  0.00447166  0.00387176\n",
      "   0.00795858  0.00435815  0.01237176  0.01947031  0.02012539  0.0213149\n",
      "   0.00414846  0.01169936  0.01992832  0.01478737  0.01687572  0.00429409\n",
      "   0.01531606  0.0110078   0.00427998  0.00743806  0.00407238  0.01681341]\n",
      " [ 0.01910465  0.01178334  0.01834964  0.00373194  0.01975848  0.01670296\n",
      "   0.0082861   0.00375471  0.01130439  0.00842321  0.00775444  0.00785462\n",
      "   0.00748667  0.01553573  0.01657197  0.01501933  0.01202395  0.00858819\n",
      "   0.01171679  0.01848692  0.00390928  0.01709449  0.00443762  0.00830583]\n",
      " [ 0.00791697  0.0086861   0.00371397  0.00383478  0.00822208  0.02255645\n",
      "   0.00457619  0.01307444  0.01601455  0.01268927  0.01978997  0.00801235\n",
      "   0.02038922  0.01858847  0.01642787  0.01167661  0.01249241  0.86816779\n",
      "   0.00745343  0.00850235  0.0178911   0.02155721  0.00410618  0.83808786]\n",
      " [ 0.01728595  0.01493747  0.01827739  0.00410985  0.0085317   0.02168517\n",
      "   0.01258451  0.00790465  0.01937244  0.00766643  0.00368185  0.01312549\n",
      "   0.00374333  0.00823662  0.00797133  0.00784821  0.014742    0.00389202\n",
      "   0.00415489  0.01914717  0.01482024  0.01259982  0.01670193  0.0040398 ]]\n"
     ]
    }
   ],
   "source": [
    " for k in range(num_annotators): #iterate over citizens that labeled image\n",
    "                    for iN in range(len(conf_matrices)): #iterate over confusion matrices\n",
    "\n",
    "                        if userIDs[k] == conf_matrices['userID'][iN]: #find confusion matrix corresponding to citizen\n",
    "\n",
    "                            conf = conf_matrices['conf_matrix'][iN] #take confusion matrix of citizen\n",
    "                            break\n",
    "                    \n",
    "                    conf_divided,x,z,s = np.linalg.lstsq(np.diag(np.sum(conf,axis=1)),conf) #calculate p(l|j) value\n",
    "\n",
    "                    for j in range(C): #iterate over classes\n",
    "\n",
    "                        \n",
    "                        pp_matrix[j,k] = (conf_divided[j,labels[k]]*priors[0][j])/sum(conf_divided[:,labels[k]]*priors[0]) #calculate posteriors\n",
    "                \n",
    "                    pp_matrices_rack.append(pp_matrix) #assign values to pp_matrices_rack\n",
    "print pp_matrix"
   ]
  },
  {
   "cell_type": "markdown",
   "metadata": {},
   "source": [
    "So the pp_matrix is a matrix of dimension C x Num_annotators. Lets access the first column of the matrix, corresponding to the posterior probabilities for one annotator, and analyze what these numbers mean. "
   ]
  },
  {
   "cell_type": "code",
   "execution_count": 75,
   "metadata": {
    "collapsed": false
   },
   "outputs": [
    {
     "name": "stdout",
     "output_type": "stream",
     "text": [
      "[ 0.00868088  0.00419331  0.01596162  0.01221754  0.01564618  0.01903117\n",
      "  0.00402285  0.02123649  0.80030192  0.02939467  0.02096654  0.00403927\n",
      "  0.01910465  0.00791697  0.01728595]\n"
     ]
    }
   ],
   "source": [
    "print pp_matrix[:,0] #print the first column of the pp_matrix"
   ]
  },
  {
   "cell_type": "markdown",
   "metadata": {},
   "source": [
    "So this column corresponds to the first user, and each row corresponds to one class, but what exactly does each number mean?\n",
    "Lets access the number corresponding to the first class"
   ]
  },
  {
   "cell_type": "code",
   "execution_count": 76,
   "metadata": {
    "collapsed": false
   },
   "outputs": [
    {
     "name": "stdout",
     "output_type": "stream",
     "text": [
      "0.00868088292512\n"
     ]
    }
   ],
   "source": [
    "print pp_matrix[0,0]"
   ]
  },
  {
   "cell_type": "markdown",
   "metadata": {},
   "source": [
    "This number is the posterior probability of an image being labeled as belonging to class 1, provided the label assigned by the first user. Essentially, each column of a pp_matrix gives a probability distribution that an image belongs to each class, given a specific users label for that image. Lets visualize this pp_matrix in heatmap form"
   ]
  },
  {
   "cell_type": "code",
   "execution_count": 77,
   "metadata": {
    "collapsed": false
   },
   "outputs": [
    {
     "data": {
      "image/png": "[encoded data removed]",
      "text/plain": [
       "<matplotlib.figure.Figure at 0xb2673c8>"
      ]
     },
     "metadata": {},
     "output_type": "display_data"
    }
   ],
   "source": [
    "data = pp_matrix\n",
    "plt.matshow(pp_matrix, cmap='Blues', norm=colors.LogNorm(vmin=data.min(), vmax=data.max()))\n",
    "plt.colorbar()\n",
    "plt.xlabel('Users')\n",
    "plt.ylabel('classes')\n",
    "plt.title('Visualization of PP_matrix \\n')\n",
    "ax = plt.gca()\n",
    "ax.set_xticks(np.arange(0,num_annotators,1))\n",
    "ax.set_yticks(np.arange(0,C,1))\n",
    "plt.show()"
   ]
  },
  {
   "cell_type": "markdown",
   "metadata": {
    "collapsed": true
   },
   "source": [
    "Its clear from the visualization that this image belongs to a specific class. There should be one dark blue horizontal line corresponding to the class the image is most likely a member of. The dark blue squares not along this line could come from wrong guesses from users. \n",
    "\n",
    "Now lets take a look at how the decider function works."
   ]
  },
  {
   "cell_type": "code",
   "execution_count": 7,
   "metadata": {
    "collapsed": false
   },
   "outputs": [
    {
     "ename": "NameError",
     "evalue": "name 'PP_matrices' is not defined",
     "output_type": "error",
     "traceback": [
      "\u001b[1;31m---------------------------------------------------------------------------\u001b[0m",
      "\u001b[1;31mNameError\u001b[0m                                 Traceback (most recent call last)",
      "\u001b[1;32m<ipython-input-7-e766e4c78c82>\u001b[0m in \u001b[0;36m<module>\u001b[1;34m()\u001b[0m\n\u001b[0;32m      1\u001b[0m \u001b[1;31m#Sample arguments for decider function\u001b[0m\u001b[1;33m\u001b[0m\u001b[1;33m\u001b[0m\u001b[0m\n\u001b[1;32m----> 2\u001b[1;33m \u001b[0mpp_matrix_sample\u001b[0m \u001b[1;33m=\u001b[0m \u001b[0mPP_matrices\u001b[0m\u001b[1;33m[\u001b[0m\u001b[1;34m'pp_matrix'\u001b[0m\u001b[1;33m]\u001b[0m\u001b[1;33m[\u001b[0m\u001b[1;36m0\u001b[0m\u001b[1;33m]\u001b[0m\u001b[1;33m\u001b[0m\u001b[0m\n\u001b[0m\u001b[0;32m      3\u001b[0m \u001b[0mML_dec_sample\u001b[0m \u001b[1;33m=\u001b[0m \u001b[0mnp\u001b[0m\u001b[1;33m.\u001b[0m\u001b[0marray\u001b[0m\u001b[1;33m(\u001b[0m\u001b[1;33m[\u001b[0m\u001b[1;36m.1\u001b[0m\u001b[1;33m,\u001b[0m \u001b[1;36m.05\u001b[0m\u001b[1;33m,\u001b[0m \u001b[1;36m.05\u001b[0m\u001b[1;33m,\u001b[0m \u001b[1;36m.05\u001b[0m\u001b[1;33m,\u001b[0m \u001b[1;36m.05\u001b[0m\u001b[1;33m,\u001b[0m \u001b[1;36m.6\u001b[0m\u001b[1;33m,\u001b[0m \u001b[1;36m.001\u001b[0m\u001b[1;33m,\u001b[0m \u001b[1;36m.014\u001b[0m\u001b[1;33m,\u001b[0m \u001b[1;36m.1\u001b[0m\u001b[1;33m,\u001b[0m \u001b[1;36m.002\u001b[0m\u001b[1;33m,\u001b[0m \u001b[1;36m.005\u001b[0m\u001b[1;33m,\u001b[0m \u001b[1;36m.0002\u001b[0m\u001b[1;33m,\u001b[0m \u001b[1;36m0\u001b[0m\u001b[1;33m,\u001b[0m \u001b[1;36m0\u001b[0m\u001b[1;33m,\u001b[0m \u001b[1;36m0\u001b[0m\u001b[1;33m]\u001b[0m\u001b[1;33m)\u001b[0m\u001b[1;33m\u001b[0m\u001b[0m\n\u001b[0;32m      4\u001b[0m \u001b[0mR_lim_sample\u001b[0m \u001b[1;33m=\u001b[0m \u001b[1;36m20\u001b[0m\u001b[1;33m\u001b[0m\u001b[0m\n\u001b[0;32m      5\u001b[0m \u001b[0mno_annotators_sample\u001b[0m \u001b[1;33m=\u001b[0m \u001b[0mlen\u001b[0m\u001b[1;33m(\u001b[0m\u001b[0mPP_matrices\u001b[0m\u001b[1;33m[\u001b[0m\u001b[1;34m'pp_matrix'\u001b[0m\u001b[1;33m]\u001b[0m\u001b[1;33m[\u001b[0m\u001b[1;36m0\u001b[0m\u001b[1;33m]\u001b[0m\u001b[1;33m[\u001b[0m\u001b[1;36m0\u001b[0m\u001b[1;33m]\u001b[0m\u001b[1;33m)\u001b[0m\u001b[1;33m\u001b[0m\u001b[0m\n",
      "\u001b[1;31mNameError\u001b[0m: name 'PP_matrices' is not defined"
     ]
    }
   ],
   "source": [
    "#Sample arguments for decider function \n",
    "pp_matrix_sample = PP_matrices['pp_matrix'][0]\n",
    "ML_dec_sample = np.array([.1, .05, .05, .05, .05, .6, .001, .014, .1, .002, .005, .0002, 0, 0, 0])\n",
    "R_lim_sample = 20\n",
    "no_annotators_sample = len(PP_matrices['pp_matrix'][0][0])\n",
    "\n",
    "decider(pp_matrix_sample, ML_dec_sample, t, R_lim_sample, no_annotators_sample) #call decider function with sample arguments"
   ]
  },
  {
   "cell_type": "code",
   "execution_count": null,
   "metadata": {
    "collapsed": true
   },
   "outputs": [],
   "source": []
  }
 ],
 "metadata": {
  "kernelspec": {
   "display_name": "Python 3",
   "language": "python",
   "name": "python3"
  },
  "language_info": {
   "codemirror_mode": {
    "name": "ipython",
    "version": 3
   },
   "file_extension": ".py",
   "mimetype": "text/x-python",
   "name": "python",
   "nbconvert_exporter": "python",
   "pygments_lexer": "ipython3",
   "version": "3.5.1"
  }
 },
 "nbformat": 4,
 "nbformat_minor": 0
}
