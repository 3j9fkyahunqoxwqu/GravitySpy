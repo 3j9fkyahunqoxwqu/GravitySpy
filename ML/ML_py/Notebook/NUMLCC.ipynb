{
 "cells": [
  {
   "cell_type": "markdown",
   "metadata": {},
   "source": [
    "First, we must import the needed modules to load and work with the data"
   ]
  },
  {
   "cell_type": "code",
   "execution_count": 117,
   "metadata": {
    "collapsed": false
   },
   "outputs": [],
   "source": [
    "import numpy as np\n",
    "from scipy.io import loadmat\n",
    "import matplotlib.pyplot as plt\n",
    "\n"
   ]
  },
  {
   "cell_type": "markdown",
   "metadata": {},
   "source": [
    "Load data containing user information, including their confusion matrix, and prior information on each image. "
   ]
  },
  {
   "cell_type": "code",
   "execution_count": 118,
   "metadata": {
    "collapsed": false
   },
   "outputs": [],
   "source": [
    "true_labels = loadmat('true_labels.mat')\n",
    "retired_images = loadmat('retired_images.mat')\n",
    "conf_matrices = loadmat('conf_matrices.mat')\n",
    "PP_matrices = loadmat('PP_matrices.mat')"
   ]
  },
  {
   "cell_type": "markdown",
   "metadata": {},
   "source": [
    "Lets talk boout the conf_matrices.mat file, that stores the confusion matrices of all the users. This information (stored in a .datfile) will be a NX1 array where N is the number of users. in each row we have a cell array that contains the CXC \"confusion matrix\" for that user. A perfectly skilled user would only have values on the diagonal of this matrix and all off diagonal values indicate wrong answers were given to one category or another when presented with a 'G' true labelled image. To illustrate this we'll print out a users confusion matrix. "
   ]
  },
  {
   "cell_type": "code",
   "execution_count": 119,
   "metadata": {
    "collapsed": false
   },
   "outputs": [
    {
     "name": "stdout",
     "output_type": "stream",
     "text": [
      "[[191   3   5   2   5   3   3   6   3   1   2   1   1   5   1]\n",
      " [  4 184   1   4   5   4   1   3   5   1   5   4   1   4   5]\n",
      " [  3   3 217   4   2   2   4   2   1   1   3   2   4   3   1]\n",
      " [  4   2   2 213   2   2   4   5   2   1   1   3   4   2   4]\n",
      " [  4   1   2   3 210   4   3   1   1   5   4   5   3   4   2]\n",
      " [  5   1   3   1   2 220   1   5   5   1   5   5   2   4   5]\n",
      " [  5   4   4   3   3   3 181   1   3   1   1   3   3   5   3]\n",
      " [  2   4   5   2   5   5   2 198   4   3   4   4   2   5   1]\n",
      " [  3   1   4   3   4   1   1   5 210   5   5   2   5   4   1]\n",
      " [  4   4   2   4   5   1   1   4   3 188   1   2   1   2   4]\n",
      " [  2   3   5   2   3   5   1   1   1   1 194   5   2   3   4]\n",
      " [  2   1   5   2   3   2   1   2   4   1   4 215   1   5   4]\n",
      " [  1   5   5   5   5   1   1   2   5   4   1   1 213   3   2]\n",
      " [  3   4   5 214   4   2 183 199   1   6   6 216 214   4   5]\n",
      " [  4   4   5   4   3   5   1   3   4   2   5   5   2   3 192]]\n"
     ]
    }
   ],
   "source": [
    "print conf_matrices['conf_matrices'][0][0][0]"
   ]
  },
  {
   "cell_type": "markdown",
   "metadata": {},
   "source": [
    "For example, the value in the first row, second column is a 3. This indicates that the user classified 3 images in class 2, when really they should be in class 1. Confusion matrices are used to evaluate users skill level, and updated as images are retired. \n",
    "\n",
    "Here's a good visualization of the matrix in heat map form:"
   ]
  },
  {
   "cell_type": "code",
   "execution_count": 120,
   "metadata": {
    "collapsed": false
   },
   "outputs": [],
   "source": [
    "data = conf_matrices['conf_matrices'][0][0][0]\n",
    "plt.matshow(data, cmap='Blues', norm=colors.LogNorm(vmin=data.min(), vmax=data.max()))\n",
    "plt.colorbar()\n",
    "plt.xlabel('classes')\n",
    "plt.ylabel('classes')\n",
    "plt.title('Visualization of confusion matrix')\n",
    "ax = plt.gca()\n",
    "ax.set_xticks(np.arange(0,15,1))\n",
    "ax.set_yticks(np.arange(0,15,1))\n",
    "plt.show()\n",
    "\n"
   ]
  },
  {
   "cell_type": "markdown",
   "metadata": {},
   "source": [
    "Now, we will define the main function that evaluates the batches of images labeled by users. The Zooniverse server (specifically Nero https://github.com/zooniverse/nero) will continuously send data (batches) to be evaluated. \n",
    "\n",
    "Lets load in and print some of that data using the loadmat function we imported."
   ]
  },
  {
   "cell_type": "code",
   "execution_count": 121,
   "metadata": {
    "collapsed": false
   },
   "outputs": [
    {
     "name": "stdout",
     "output_type": "stream",
     "text": [
      "([u'T'], [[14, 14, 14, 14, 14, 14, 14, 14, 14, 14, 14, 14, 14, 14, 3, 13, 6, 13, 11, 5, 11, 5, 12]], [[18, 29, 24, 22, 30, 14, 13, 16, 1, 9, 7, 27, 23, 2, 21, 11, 12, 15, 28, 5, 25, 8, 20]], [[0.014317919728839477, 0.014317919728839477, 0.014317919728839477, 0.014317919728839477, 0.014317919728839477, 0.014317919728839477, 0.014317919728839477, 0.014317919728839477, 0.014317919728839477, 0.014317919728839477, 0.014317919728839477, 0.014317919728839477, 0.014317919728839477, 0.7995491237962473, 0.014317919728839477]], [[-1]], [[30]])\n"
     ]
    }
   ],
   "source": [
    "batch = loadmat('batch1.mat')\n",
    "print batch['images'][0][0]"
   ]
  },
  {
   "cell_type": "markdown",
   "metadata": {},
   "source": [
    "Okay, thats a lot of information for one image. Lets breakdown what these data 'batches' actually store, and how to access certain parts."
   ]
  },
  {
   "cell_type": "markdown",
   "metadata": {},
   "source": [
    "The ID of the users, the ID of the image they classified, and \n",
    "the classification made by that user for that image are all held in the batches. Lets access them."
   ]
  },
  {
   "cell_type": "code",
   "execution_count": 122,
   "metadata": {
    "collapsed": false
   },
   "outputs": [
    {
     "name": "stdout",
     "output_type": "stream",
     "text": [
      "30\n",
      "[18 29 24 22 30 14 13 16  1  9  7 27 23  2 21 11 12 15 28  5 25  8 20]\n",
      "[14 14 14 14 14 14 14 14 14 14 14 14 14 14  3 13  6 13 11  5 11  5 12]\n"
     ]
    }
   ],
   "source": [
    "Sample_ImageID = batch['images'][0]['imageID'][0][0][0]\n",
    "Sample_UserIDs = batch['images'][0]['IDs'][0][0]\n",
    "Sample_classifications = batch['images'][0]['labels'][0][0]\n",
    "\n",
    "print Sample_ImageID\n",
    "print Sample_UserIDs\n",
    "print Sample_classifications\n"
   ]
  },
  {
   "cell_type": "markdown",
   "metadata": {},
   "source": [
    "The first number is the Image ID of a specific image.\n",
    "\n",
    "The second array holds the user ID's that classified the image.\n",
    "\n",
    "The third array holds the classifications of the image made by the users corresponding (one to one) to the second array."
   ]
  },
  {
   "cell_type": "markdown",
   "metadata": {},
   "source": [
    "Batches also contain an images Type, Machine Learning (ML) Posterior, and a True label:\n",
    "\n",
    "The Type - A label (string) either 'T' or 'G' to determine if it is a ML classified label ('T') or a pre-labelled \"golden\" image ('G')\n",
    "\n",
    "ML Posterior - An array (double) of a  1XC row vector where C is the number of pre-determined morphologies that the classifier has been trained on. Each column is the ML confidence (percentage) that the image belongs in one of the C classes.\n",
    "\n",
    "True Label - (int) For images labelled 'T' this values is set to -1 but for images labelled 'G' This value indicates the \"true\" class that this image belongs in for the purposes of comparing a citizens classification with this true label.\n",
    "\n",
    "Lets access these elements of the batches"
   ]
  },
  {
   "cell_type": "code",
   "execution_count": 123,
   "metadata": {
    "collapsed": false
   },
   "outputs": [
    {
     "name": "stdout",
     "output_type": "stream",
     "text": [
      "T\n",
      "[ 0.01431792  0.01431792  0.01431792  0.01431792  0.01431792  0.01431792\n",
      "  0.01431792  0.01431792  0.01431792  0.01431792  0.01431792  0.01431792\n",
      "  0.01431792  0.79954912  0.01431792]\n",
      "-1\n"
     ]
    }
   ],
   "source": [
    "Sample_type = batch['images'][0]['type'][0][0]\n",
    "Sample_ML_Posterior = batch['images'][0]['ML_posterior'][0][0]\n",
    "Sample_TrueLabel = batch['images'][0]['truelabel'][0][0][0]\n",
    "\n",
    "print Sample_type\n",
    "print Sample_ML_Posterior\n",
    "print Sample_TrueLabel"
   ]
  },
  {
   "cell_type": "markdown",
   "metadata": {},
   "source": [
    "What does all this information mean?\n",
    "\n",
    "This image has type 'T' meaning it is not a golden image and is still in testing.\n",
    "\n",
    "From the ML_Posterior, we can see that the Machine is 79.95% sure this image is in the 14th class, and  1.43% sure it is in each other class.\n",
    "\n",
    "A true label of -1 means this image is still testing and has not been assigned a class.\n",
    "\n",
    "Now that we understand the structure of each batch and how to access specific information within the batches, lets move on to evaluating image and user classifications."
   ]
  },
  {
   "cell_type": "markdown",
   "metadata": {},
   "source": [
    "To start, lets set a flat prior for each image. This means that before more information is analyzed, we are giving an equal chance that the image is in each of the 15 classes."
   ]
  },
  {
   "cell_type": "code",
   "execution_count": 124,
   "metadata": {
    "collapsed": false
   },
   "outputs": [],
   "source": [
    "no_labels = np.histogram((true_labels['true_labels'][0]),np.unique(true_labels['true_labels'][0]))\n",
    "priors = no_labels[1]/len(true_labels['true_labels'][0])\n"
   ]
  },
  {
   "cell_type": "markdown",
   "metadata": {},
   "source": [
    "Initialize R_lim, the limit on how many people can look at an image before it is passed onto a higher skill level"
   ]
  },
  {
   "cell_type": "code",
   "execution_count": 125,
   "metadata": {
    "collapsed": true
   },
   "outputs": [],
   "source": [
    "R_lim = 23"
   ]
  },
  {
   "cell_type": "markdown",
   "metadata": {},
   "source": [
    "Initialize N, the number of images in a batch"
   ]
  },
  {
   "cell_type": "code",
   "execution_count": 126,
   "metadata": {
    "collapsed": true
   },
   "outputs": [],
   "source": [
    "N = len(batch['images'])"
   ]
  },
  {
   "cell_type": "markdown",
   "metadata": {},
   "source": [
    "initialize C, the number of morphologies (classes)"
   ]
  },
  {
   "cell_type": "code",
   "execution_count": 127,
   "metadata": {
    "collapsed": true
   },
   "outputs": [],
   "source": [
    "for i in range(N):\n",
    "    if batch['images'][i][0][0] == 'T':\n",
    "        C = len(batch['images'][i]['ML_posterior'][0][0])\n"
   ]
  },
  {
   "cell_type": "markdown",
   "metadata": {},
   "source": [
    "Initialize varaible t. t is a CX1 column vector where C is the number of pre-determined morphologies and where each row is the predetermined certainty threshold that an image most surpass to be considered part of class C. Here all classes have the same threshold but in realty different categories will have more difficult or more relax thresholds for determination of class and, as a result, \n",
    "retirability."
   ]
  },
  {
   "cell_type": "code",
   "execution_count": 128,
   "metadata": {
    "collapsed": true
   },
   "outputs": [],
   "source": [
    "t = .4*np.ones((C,1))"
   ]
  },
  {
   "cell_type": "markdown",
   "metadata": {},
   "source": [
    "initialize a decision matrix that holds the decision for each image"
   ]
  },
  {
   "cell_type": "code",
   "execution_count": 129,
   "metadata": {
    "collapsed": true
   },
   "outputs": [],
   "source": [
    " dec_matrix = np.zeros((1,N))"
   ]
  },
  {
   "cell_type": "markdown",
   "metadata": {},
   "source": [
    "initialize a class matrix that holds the True labels of each image. (corresponds one to one to decision matrix)"
   ]
  },
  {
   "cell_type": "code",
   "execution_count": 130,
   "metadata": {
    "collapsed": false
   },
   "outputs": [],
   "source": [
    "class_matrix = np.zeros((1,N))"
   ]
  },
  {
   "cell_type": "markdown",
   "metadata": {},
   "source": [
    "initialize a list to hold the pp_matrices for each images. We'll talk about the importance of pp_matrices later."
   ]
  },
  {
   "cell_type": "code",
   "execution_count": 131,
   "metadata": {
    "collapsed": true
   },
   "outputs": [],
   "source": [
    "pp_matrices_rack = []"
   ]
  },
  {
   "cell_type": "markdown",
   "metadata": {},
   "source": [
    "Now lets look at how a decision for an image is made. The decider function takes in an images posterior matrix, Machine learning decision, number of annotators, and R_lim as arguments, and uses that information to decide the next step for the image."
   ]
  },
  {
   "cell_type": "code",
   "execution_count": 135,
   "metadata": {
    "collapsed": true
   },
   "outputs": [],
   "source": [
    "def decider(pp_matrix, ML_dec, t, R_lim, no_annotators): #define the decider function with given arguments\n",
    "    pp_matrix2 = np.append(pp_matrix, ML_dec.reshape((15,1))) #Include ML_decision in posterior matrix\n",
    "    v = np.sum(pp_matrix2, axis=1)/np.sum(pp_matrix) #create vector of normalized sums of pp_matrix2 \n",
    "    maximum = np.amax(v) #initialize maximum, max value of v\n",
    "    maxIdx = np.argmax(v) #initialize maxIdx, index of max value of v\n",
    "\n",
    "    if maximum >= t[maxIdx]: #if maximum is above threshold for that specific class\n",
    "\n",
    "        decision = 1 #retire the image\n",
    "        print('Image is retired')\n",
    "\n",
    "    elif no_annotators >= R_lim: #if more than R_lim annotators have looked at image and no decision reached\n",
    "\n",
    "        decision = 2 #pass image on to next user skill class\n",
    "        print('Image is given to the upper class')\n",
    "\n",
    "    else: #if fewer than R_lim annotators have looked at image\n",
    "\n",
    "        decision = 3 #keep image in same class\n",
    "        print('More labels are needed for the image')\n",
    "\n",
    "    image_class = maxIdx #set image_class \n",
    "\n",
    "    return decision, image_class #return the decision, and image class"
   ]
  },
  {
   "cell_type": "markdown",
   "metadata": {},
   "source": [
    "The next chunk of code is used to update users confusion matrices, images posterior matrices (PP_matrix), and to make decisions on the fate of an image."
   ]
  },
  {
   "cell_type": "code",
   "execution_count": 136,
   "metadata": {
    "collapsed": false
   },
   "outputs": [
    {
     "ename": "NameError",
     "evalue": "name 'pp_matrix' is not defined",
     "output_type": "error",
     "traceback": [
      "\u001b[0;31m---------------------------------------------------------------------------\u001b[0m",
      "\u001b[0;31mNameError\u001b[0m                                 Traceback (most recent call last)",
      "\u001b[0;32m<ipython-input-136-813607bf57c9>\u001b[0m in \u001b[0;36m<module>\u001b[0;34m()\u001b[0m\n\u001b[1;32m     72\u001b[0m                 \u001b[0;32mbreak\u001b[0m\u001b[0;34m\u001b[0m\u001b[0m\n\u001b[1;32m     73\u001b[0m \u001b[0;34m\u001b[0m\u001b[0m\n\u001b[0;32m---> 74\u001b[0;31m         \u001b[0mdec_matrix\u001b[0m\u001b[0;34m[\u001b[0m\u001b[0;36m0\u001b[0m\u001b[0;34m,\u001b[0m\u001b[0mi\u001b[0m\u001b[0;34m]\u001b[0m\u001b[0;34m,\u001b[0m \u001b[0mclass_matrix\u001b[0m\u001b[0;34m[\u001b[0m\u001b[0;36m0\u001b[0m\u001b[0;34m,\u001b[0m\u001b[0mi\u001b[0m\u001b[0;34m]\u001b[0m \u001b[0;34m=\u001b[0m \u001b[0mdecider\u001b[0m\u001b[0;34m(\u001b[0m\u001b[0mpp_matrix\u001b[0m\u001b[0;34m,\u001b[0m \u001b[0mML_dec\u001b[0m\u001b[0;34m,\u001b[0m \u001b[0mt\u001b[0m\u001b[0;34m,\u001b[0m \u001b[0mR_lim\u001b[0m\u001b[0;34m,\u001b[0m \u001b[0mno_annotators\u001b[0m\u001b[0;34m)\u001b[0m \u001b[0;31m#make decisions for each image in batch using decider function.\u001b[0m\u001b[0;34m\u001b[0m\u001b[0m\n\u001b[0m\u001b[1;32m     75\u001b[0m \u001b[0;34m\u001b[0m\u001b[0m\n",
      "\u001b[0;31mNameError\u001b[0m: name 'pp_matrix' is not defined"
     ]
    }
   ],
   "source": [
    "for i in range(N): #For each image in the batch\n",
    "\n",
    "    if batch['images'][i]['type'][0][0] == 'G': #check if image is in golden set\n",
    "        labels = batch['images'][i]['labels'][0][0] #take citizen labels of image\n",
    "        userIDs = batch['images'][i]['IDs'][0][0] #take IDs of citizens who labeled the image\n",
    "        tlabel = batch['images'][i]['truelabel'][0][0][0] #take true label of image\n",
    "\n",
    "        for ii in range(len(userIDs)): #For each user \n",
    "\n",
    "            indicator = 0 #initialize indicator to zero for each user\n",
    "\n",
    "            for cc in range(len(conf_matrices['conf_matrices'][0])): #for each users confusion matrix\n",
    "\n",
    "                if userIDs[ii] == conf_matrices['conf_matrices'][cc]['userID'][0][0][0]: #if user already has a confusion matrix\n",
    "\n",
    "                    conf_matrix = conf_matrices['conf_matrices'][cc]['conf_matrix'][0] #take confusion matrix of citizen\n",
    "                    conf_matrix[tlabel-1,labels[ii]-1] += 1 #update confusion matrix, rewarding user for correct classification\n",
    "                    conf_matrices['conf_matrices'][cc]['conf_matrix'][0] = conf_matrix #confusion matrix put back in stack\n",
    "                    indicator = 1 #user is already registered\n",
    "\n",
    "            if indicator == 0: #if user not registered\n",
    "\n",
    "                dummy_matrix = np.zeros((C,C)) #create dummy confusiong matrix\n",
    "                dummy_matrix[tlabel-1,labels[ii]-1] += 1 #update dummy matrix, rewarding user for correct classification\n",
    "                #conf_matrices['conf_matrices'] = np.append(conf_matrices['conf_matrices'][0], dummy_matrix) #append to confusion matrices\n",
    "                #conf_matrices(end + 1).userID = IDs(ii)\n",
    "\n",
    "        dec_matrix[0,i] = 0 #Since image is golden, no decision needs to be made about the image\n",
    "        class_matrix[0,i] = tlabel #class of image is its true label\n",
    "        print('The image is from the training set')\n",
    "\n",
    "    else: #if image not in golden set, i.e. has ML label but no true label\n",
    "\n",
    "        indicator1 = 0 #initialize indicator1 to zero\n",
    "\n",
    "        for kk in range(len(retired_images['retired_images'][0])): #for each retired image\n",
    "\n",
    "            if batch['images'][i]['imageID'][0][0][0] == retired_images['retired_images'][0][kk]['imageID'][0][0]: #if image is already retired\n",
    "\n",
    "                indicator1 = 1 #set indicator1 to one, meaning image has already been retired\n",
    "                dec_matrix[0,i] = -1 #give invalid decision\n",
    "\n",
    "        if indicator1 == 0: #if image has not already been retired\n",
    "\n",
    "            labels = batch['images'][i]['labels'][0][0] #take citizen labels of image\n",
    "            userIDs = batch['images'][i]['IDs'][0][0] #take IDs of citizens who label image\n",
    "            no_annotators = len(labels) #take number of citizens who labeled the image\n",
    "            ML_dec = batch['images'][i]['ML_posterior'][0][0] #take ML posteriors of image\n",
    "            imageID = batch['images'][i]['imageID'][0][0][0] #take ID of image\n",
    "            image_prior = priors #set priors for image to original priors\n",
    "\n",
    "            for y in range(len(PP_matrices['PP_matrices'][0])): #for each images posterior matrix\n",
    "\n",
    "                if imageID == PP_matrices['PP_matrices'][0][y]['imageID'][0][0]: #If image already has a posterior matrix\n",
    "\n",
    "                    image_prior = np.sum(PP_matrices['PP_matrices'][0][y]['matrix'],axis=1)/np.sum(PP_matrices['PP_matrices'][0][y]['matrix']) #Use posterior matrix information to update an images prior\n",
    "\n",
    "            for j in range(C): #for each class\n",
    "\n",
    "                for k in range(no_annotators): #for each citizen that labeled image\n",
    "\n",
    "                    for iN in range(len(conf_matrices['conf_matrices'][0])): #for each confusion matrix\n",
    "                \n",
    "                        if userIDs[k] == conf_matrices['conf_matrices'][iN]['userID'][0][0][0]: #If citizen already has a confusion matrix\n",
    "\n",
    "                            conf = conf_matrices['conf_matrices'][iN]['conf_matrix'][0] #take confusion matrix of citizen\n",
    "                            conf_divided = np.diag(sum(conf,2))/conf #calculate p(l|j) value\n",
    "                            pp_matrix = np.zeros((C,no_annotators)) #create posterior matrix\n",
    "                            pp_matrix[j,k] = ((conf_divided[j,(labels[k])])*priors[j])/sum(conf_divided[:,(labels[k])]*priors) #Fill posterior matrix with values\n",
    "                            pp_matrices_rack.append(pp_matrix) #put PP_matrix in the rack\n",
    "\n",
    "                break\n",
    "\n",
    "        dec_matrix[0,i], class_matrix[0,i] = decider(pp_matrix, ML_dec, t, R_lim, no_annotators) #make decisions for each image in batch using decider function.\n",
    "      "
   ]
  },
  {
   "cell_type": "markdown",
   "metadata": {
    "collapsed": true
   },
   "source": [
    "Now we'll put the decider function in action:"
   ]
  },
  {
   "cell_type": "code",
   "execution_count": 137,
   "metadata": {
    "collapsed": false
   },
   "outputs": [
    {
     "name": "stdout",
     "output_type": "stream",
     "text": [
      "Here is the Posterior matrix [[ 0.01744259  0.01731697  0.02493144  0.01028312  0.00546532  0.01070963\n",
      "   0.02262277  0.01929081  0.02527572  0.00479306  0.01134239  0.01906742\n",
      "   0.02150386  0.02335514  0.00585403  0.01772854  0.00278222  0.00497152\n",
      "   0.00882818  0.02052645  0.01243257  0.00262403  0.01197271  0.01344635\n",
      "   0.0114498   0.01040049  0.01084297]\n",
      " [ 0.02919905  0.00531959  0.02115639  0.02461174  0.02292532  0.0295438\n",
      "   0.00979726  0.00594736  0.01623594  0.02340578  0.01826028  0.00613758\n",
      "   0.01612789  0.02395399  0.01592205  0.01772854  0.00834666  0.0024543\n",
      "   0.00236603  0.74853645  0.00796131  0.01312015  0.00420618  0.01140903\n",
      "   0.0039356   0.7772285   0.00782651]\n",
      " [ 0.02305456  0.01614877  0.01209636  0.01459731  0.00514     0.00590876\n",
      "   0.01982873  0.00699853  0.00549823  0.01589943  0.01833932  0.00539644\n",
      "   0.01775423  0.00528796  0.00598241  0.73013397  0.00540801  0.00490859\n",
      "   0.00455822  0.01115017  0.00255082  0.00237706  0.83404803  0.00288504\n",
      "   0.01073715  0.00740515  0.00624555]\n",
      " [ 0.02507962  0.03783057  0.01611428  0.02370602  0.03500759  0.02349998\n",
      "   0.02214348  0.01770215  0.01491951  0.01409439  0.00841268  0.04085876\n",
      "   0.03069111  0.02604202  0.00782617  0.02230516  0.00415249  0.01329527\n",
      "   0.0131384   0.00531273  0.01711791  0.01347003  0.00596288  0.86292683\n",
      "   0.01575094  0.01049313  0.0065941 ]\n",
      " [ 0.00327318  0.00326867  0.01234401  0.00308494  0.01612383  0.00663306\n",
      "   0.01228891  0.01798426  0.01472058  0.01409832  0.00661935  0.00365121\n",
      "   0.00695557  0.00721704  0.00670814  0.00907939  0.00343811  0.00282592\n",
      "   0.00411921  0.00688854  0.00675046  0.00298107  0.01192575  0.00370326\n",
      "   0.00408577  0.00961708  0.00524836]\n",
      " [ 0.02441963  0.03346423  0.02949952  0.02051483  0.03073547  0.01517127\n",
      "   0.01501684  0.03959692  0.00754717  0.0208795   0.01734192  0.00901838\n",
      "   0.02640942  0.03397111  0.01604693  0.01939951  0.01564507  0.00714329\n",
      "   0.00891713  0.01945276  0.01284507  0.00331489  0.00586432  0.01393208\n",
      "   0.00299398  0.0273397   0.01219494]\n",
      " [ 0.04532092  0.02625477  0.01825547  0.01822372  0.00874451  0.01775977\n",
      "   0.0387316   0.01037712  0.04230052  0.03483966  0.02985997  0.03813484\n",
      "   0.01010585  0.03721317  0.03505835  0.00592889  0.01297922  0.01577405\n",
      "   0.01507867  0.02284683  0.00428446  0.01073626  0.01448127  0.01518647\n",
      "   0.01273922  0.0059719   0.00979695]\n",
      " [ 0.02855218  0.04075311  0.02194764  0.03380137  0.02889869  0.02156365\n",
      "   0.02107202  0.00904101  0.00840033  0.02903931  0.00797169  0.02266505\n",
      "   0.01511037  0.00791061  0.00740149  0.02728056  0.00739306  0.00638694\n",
      "   0.0156347   0.00995614  0.01363797  0.00340808  0.03006705  0.00419998\n",
      "   0.0115465   0.02511437  0.00315432]\n",
      " [ 0.01147738  0.04598292  0.04929839  0.04828767  0.0448582   0.03175673\n",
      "   0.05227952  0.06192111  0.04213907  0.03020227  0.06193544  0.02200087\n",
      "   0.05295122  0.01218529  0.03381791  0.03477521  0.00517921  0.01861338\n",
      "   0.00429525  0.03716723  0.01523924  0.025576    0.01718117  0.02552528\n",
      "   0.85505091  0.03233691  0.87723155]\n",
      " [ 0.02149682  0.03014436  0.01873732  0.03642929  0.009072    0.03009144\n",
      "   0.02972993  0.01265621  0.05520218  0.04707614  0.03359247  0.04344476\n",
      "   0.04333854  0.02174444  0.01940854  0.0355345   0.02385697  0.85626958\n",
      "   0.0125636   0.03317744  0.01258137  0.02182144  0.00753984  0.00624605\n",
      "   0.02088689  0.01349117  0.01594609]\n",
      " [ 0.02104186  0.01125723  0.02756134  0.02570781  0.01177528  0.02184593\n",
      "   0.00979726  0.01275155  0.02410576  0.02313571  0.01206947  0.00627218\n",
      "   0.01214226  0.01218529  0.01656667  0.01169167  0.00547396  0.00514751\n",
      "   0.01094867  0.00348712  0.00273977  0.01193211  0.01261854  0.00885877\n",
      "   0.0108725   0.00384085  0.00424868]\n",
      " [ 0.02681064  0.01039018  0.04089623  0.04947918  0.04644433  0.03979836\n",
      "   0.04665947  0.0359526   0.00940946  0.04132638  0.01012681  0.04476699\n",
      "   0.00994237  0.05085394  0.0493008   0.0273526   0.02173873  0.01752306\n",
      "   0.00810555  0.02839641  0.85691273  0.87840547  0.02207226  0.00525346\n",
      "   0.01416814  0.02776932  0.01211422]\n",
      " [ 0.02565749  0.00935515  0.03266018  0.03199913  0.03356193  0.01820192\n",
      "   0.02388965  0.01104354  0.03423391  0.04148472  0.03813341  0.00886857\n",
      "   0.01862483  0.00926485  0.03344647  0.03229127  0.86508442  0.01551115\n",
      "   0.01758684  0.01836943  0.01558625  0.00386391  0.01214908  0.01853528\n",
      "   0.01346422  0.01828433  0.00666192]\n",
      " [ 0.65215246  0.67344639  0.66527972  0.62932709  0.65961351  0.67776774\n",
      "   0.63896987  0.7166272   0.68840368  0.61264918  0.71444101  0.69643116\n",
      "   0.69712654  0.70941242  0.69870733  0.00212742  0.00318093  0.00736289\n",
      "   0.00680954  0.00658176  0.00138161  0.00145476  0.00252371  0.0019991\n",
      "   0.00131576  0.01005224  0.00380826]\n",
      " [ 0.04502163  0.03906709  0.0092217   0.02994679  0.04163402  0.04974795\n",
      "   0.03717269  0.02210963  0.01160794  0.04707614  0.01155377  0.0332858\n",
      "   0.02121594  0.01940273  0.04795273  0.00664278  0.01534094  0.02181255\n",
      "   0.86705002  0.02815056  0.01797845  0.00491474  0.00738721  0.00589301\n",
      "   0.01100262  0.02065487  0.01808558]]\n"
     ]
    },
    {
     "ename": "ValueError",
     "evalue": "total size of new array must be unchanged",
     "output_type": "error",
     "traceback": [
      "\u001b[0;31m---------------------------------------------------------------------------\u001b[0m",
      "\u001b[0;31mValueError\u001b[0m                                Traceback (most recent call last)",
      "\u001b[0;32m<ipython-input-137-a382fe754c9a>\u001b[0m in \u001b[0;36m<module>\u001b[0;34m()\u001b[0m\n\u001b[1;32m     30\u001b[0m \u001b[0mR_lim_sample\u001b[0m \u001b[0;34m=\u001b[0m \u001b[0;36m20\u001b[0m\u001b[0;34m\u001b[0m\u001b[0m\n\u001b[1;32m     31\u001b[0m \u001b[0mno_annotators_sample\u001b[0m \u001b[0;34m=\u001b[0m \u001b[0mlen\u001b[0m\u001b[0;34m(\u001b[0m\u001b[0mPP_matrices\u001b[0m\u001b[0;34m[\u001b[0m\u001b[0;34m'PP_matrices'\u001b[0m\u001b[0;34m]\u001b[0m\u001b[0;34m[\u001b[0m\u001b[0;36m0\u001b[0m\u001b[0;34m]\u001b[0m\u001b[0;34m[\u001b[0m\u001b[0;36m0\u001b[0m\u001b[0;34m]\u001b[0m\u001b[0;34m[\u001b[0m\u001b[0;36m1\u001b[0m\u001b[0;34m]\u001b[0m\u001b[0;34m[\u001b[0m\u001b[0;36m0\u001b[0m\u001b[0;34m]\u001b[0m\u001b[0;34m)\u001b[0m\u001b[0;34m\u001b[0m\u001b[0m\n\u001b[0;32m---> 32\u001b[0;31m \u001b[0mdecider\u001b[0m\u001b[0;34m(\u001b[0m\u001b[0mpp_matrix_sample\u001b[0m\u001b[0;34m,\u001b[0m \u001b[0mML_dec_sample\u001b[0m\u001b[0;34m,\u001b[0m \u001b[0mt\u001b[0m\u001b[0;34m,\u001b[0m \u001b[0mR_lim_sample\u001b[0m\u001b[0;34m,\u001b[0m \u001b[0mno_annotators_sample\u001b[0m \u001b[0;34m)\u001b[0m\u001b[0;34m\u001b[0m\u001b[0m\n\u001b[0m",
      "\u001b[0;32m<ipython-input-137-a382fe754c9a>\u001b[0m in \u001b[0;36mdecider\u001b[0;34m(pp_matrix, ML_dec, t, R_lim, no_annotators)\u001b[0m\n\u001b[1;32m      1\u001b[0m \u001b[0;32mdef\u001b[0m \u001b[0mdecider\u001b[0m\u001b[0;34m(\u001b[0m\u001b[0mpp_matrix\u001b[0m\u001b[0;34m,\u001b[0m \u001b[0mML_dec\u001b[0m\u001b[0;34m,\u001b[0m \u001b[0mt\u001b[0m\u001b[0;34m,\u001b[0m \u001b[0mR_lim\u001b[0m\u001b[0;34m,\u001b[0m \u001b[0mno_annotators\u001b[0m\u001b[0;34m)\u001b[0m\u001b[0;34m:\u001b[0m\u001b[0;34m\u001b[0m\u001b[0m\n\u001b[1;32m      2\u001b[0m     \u001b[0;32mprint\u001b[0m \u001b[0;34m\"Here is the Posterior matrix\"\u001b[0m \u001b[0;34m,\u001b[0m \u001b[0mpp_matrix\u001b[0m\u001b[0;34m\u001b[0m\u001b[0m\n\u001b[0;32m----> 3\u001b[0;31m     \u001b[0mpp_matrix2\u001b[0m \u001b[0;34m=\u001b[0m \u001b[0mnp\u001b[0m\u001b[0;34m.\u001b[0m\u001b[0mappend\u001b[0m\u001b[0;34m(\u001b[0m\u001b[0mpp_matrix\u001b[0m\u001b[0;34m,\u001b[0m \u001b[0mML_dec\u001b[0m\u001b[0;34m.\u001b[0m\u001b[0mreshape\u001b[0m\u001b[0;34m(\u001b[0m\u001b[0;34m(\u001b[0m\u001b[0;36m15\u001b[0m\u001b[0;34m,\u001b[0m\u001b[0;36m1\u001b[0m\u001b[0;34m)\u001b[0m\u001b[0;34m)\u001b[0m\u001b[0;34m)\u001b[0m\u001b[0;34m\u001b[0m\u001b[0m\n\u001b[0m\u001b[1;32m      4\u001b[0m     \u001b[0;32mprint\u001b[0m \u001b[0;34m\"Here is the Posterior matrix with the ML Posterior\"\u001b[0m \u001b[0;34m,\u001b[0m \u001b[0mpp_matrix2\u001b[0m\u001b[0;34m\u001b[0m\u001b[0m\n\u001b[1;32m      5\u001b[0m     \u001b[0mv\u001b[0m \u001b[0;34m=\u001b[0m \u001b[0mnp\u001b[0m\u001b[0;34m.\u001b[0m\u001b[0msum\u001b[0m\u001b[0;34m(\u001b[0m\u001b[0mpp_matrix2\u001b[0m\u001b[0;34m,\u001b[0m \u001b[0maxis\u001b[0m\u001b[0;34m=\u001b[0m\u001b[0;36m1\u001b[0m\u001b[0;34m)\u001b[0m\u001b[0;34m/\u001b[0m\u001b[0mnp\u001b[0m\u001b[0;34m.\u001b[0m\u001b[0msum\u001b[0m\u001b[0;34m(\u001b[0m\u001b[0mpp_matrix\u001b[0m\u001b[0;34m)\u001b[0m\u001b[0;34m\u001b[0m\u001b[0m\n",
      "\u001b[0;31mValueError\u001b[0m: total size of new array must be unchanged"
     ]
    }
   ],
   "source": [
    "def decider(pp_matrix, ML_dec, t, R_lim, no_annotators): \n",
    "    print \"Here is the Posterior matrix\" , pp_matrix\n",
    "    pp_matrix2 = np.append(pp_matrix, ML_dec.reshape((15,1))) \n",
    "    print \"Here is the Posterior matrix with the ML Posterior\" , pp_matrix2\n",
    "    v = np.sum(pp_matrix2, axis=1)/np.sum(pp_matrix) \n",
    "    print \"Here is our normalized posterior vector\" , v\n",
    "    maxIdx = np.argmax(v) \n",
    "    print \"Here is the most likely class for the image\" , maxIdx\n",
    "    maximum = np.amax(v) \n",
    "    print \"Here is the likelihood the image is in class $d\" % maxIdx, maximum\n",
    "    if maximum >= t[maxIdx]: \n",
    "\n",
    "        decision = 1\n",
    "        print('Image is retired')\n",
    "\n",
    "    elif no_annotators >= R_lim: \n",
    "\n",
    "        decision = 2 \n",
    "        print('Image is given to the upper class')\n",
    "\n",
    "    else: \n",
    "        decision = 3\n",
    "        print('More labels are needed for the image')\n",
    "\n",
    "    image_class = maxIdx \n",
    "\n",
    "    return decision, image_class\n",
    "pp_matrix_sample = PP_matrices['PP_matrices'][0][0][1]\n",
    "ML_dec_sample = np.array([.1, .05, .05, .05, .05, .6, .001, .014, .1, .002, .005, .0002, 0, 0, 0, 0])\n",
    "R_lim_sample = 20\n",
    "no_annotators_sample = len(PP_matrices['PP_matrices'][0][0][1][0])\n",
    "decider(pp_matrix_sample, ML_dec_sample, t, R_lim_sample, no_annotators_sample )"
   ]
  },
  {
   "cell_type": "code",
   "execution_count": 30,
   "metadata": {
    "collapsed": false
   },
   "outputs": [
    {
     "name": "stdout",
     "output_type": "stream",
     "text": [
      "27\n"
     ]
    }
   ],
   "source": [
    "print len(PP_matrices['PP_matrices'][0][0][1][0])"
   ]
  },
  {
   "cell_type": "code",
   "execution_count": null,
   "metadata": {
    "collapsed": true
   },
   "outputs": [],
   "source": []
  }
 ],
 "metadata": {
  "kernelspec": {
   "display_name": "Python 2",
   "language": "python",
   "name": "python2"
  },
  "language_info": {
   "codemirror_mode": {
    "name": "ipython",
    "version": 2
   },
   "file_extension": ".py",
   "mimetype": "text/x-python",
   "name": "python",
   "nbconvert_exporter": "python",
   "pygments_lexer": "ipython2",
   "version": "2.7.12"
  }
 },
 "nbformat": 4,
 "nbformat_minor": 0
}
