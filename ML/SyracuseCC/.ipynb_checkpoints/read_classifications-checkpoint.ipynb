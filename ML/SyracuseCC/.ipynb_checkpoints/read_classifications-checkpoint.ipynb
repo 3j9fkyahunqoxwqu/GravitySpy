{
 "cells": [
  {
   "cell_type": "code",
   "execution_count": 1,
   "metadata": {
    "collapsed": true
   },
   "outputs": [],
   "source": [
    "### Import standard functions ###\n",
    "import os, time, csv, optparse\n",
    "import numpy as np\n",
    "from pylab import *\n",
    "import json\n",
    "import pandas as pd"
   ]
  },
  {
   "cell_type": "code",
   "execution_count": 2,
   "metadata": {
    "collapsed": false
   },
   "outputs": [],
   "source": [
    "#####################################\n",
    "### Define command line arguments ###\n",
    "#####################################\n",
    "def parse_commandline():\n",
    "    parser = optparse.OptionParser()\n",
    "    parser.add_option(\"--file\", help=\"Type in the path to the csv file \\\n",
    "    containing the classifications from the vet training set \\\n",
    "    workflow\",default=\"example.csv\")\n",
    "    \n",
    "    opts, args = parser.parse_args()\n",
    "    \n",
    "    return opts\n",
    "\n",
    "#opts = parse_commandline()\n",
    "class_file = \"gravity-spy-classifications.csv\""
   ]
  },
  {
   "cell_type": "code",
   "execution_count": 3,
   "metadata": {
    "collapsed": false
   },
   "outputs": [
    {
     "name": "stderr",
     "output_type": "stream",
     "text": [
      "C:\\Users\\Luke\\Anaconda3\\lib\\site-packages\\ipykernel\\__main__.py:3: ParserWarning: Falling back to the 'python' engine because the 'c' engine does not support skip_footer; you can avoid this warning by specifying engine='python'.\n",
      "  app.launch_new_instance()\n"
     ]
    }
   ],
   "source": [
    "### READ IN DATA ###\n",
    "length = len(pd.read_csv(class_file)) # we need this to cut out post-beta2.0\n",
    "data = pd.read_csv(class_file, skiprows=29573, skipfooter=length-49582) # This starts with Beta 2.0\n",
    "data = np.asarray(data)"
   ]
  },
  {
   "cell_type": "code",
   "execution_count": 52,
   "metadata": {
    "collapsed": false
   },
   "outputs": [],
   "source": [
    "### APPEND ALL PERTINENT DATA TO LIST ###\n",
    "\n",
    "classifications=[]\n",
    "\n",
    "for i in xrange(len(data)):\n",
    "    # create list to hold to output information of each classification\n",
    "    output = []\n",
    "    # Check that there was only 1 choice made...\n",
    "    annotations = json.loads(data[i][11])\n",
    "    if str(annotations).count('choice') == 1:\n",
    "        user = data[i,1]\n",
    "        user_id = data[i,2]\n",
    "        workflow = data[i,5]\n",
    "        \n",
    "        # annotations\n",
    "        task = annotations[0][\"task\"]\n",
    "        choice = annotations[0][\"value\"][0][\"choice\"]\n",
    "        \n",
    "        # subject data\n",
    "        subject_data = json.loads(data[i][12])\n",
    "        for key in subject_data:\n",
    "            zoo_id = key\n",
    "            retired = subject_data[key]['retired']\n",
    "            unique_id = subject_data[key]['subject_id']\n",
    "        \n",
    "        # Append this information into a temporary output file\n",
    "        output.append(user)\n",
    "        output.append(user_id)\n",
    "        output.append(workflow)\n",
    "        output.append(task)\n",
    "        output.append(choice)\n",
    "        output.append(retired)\n",
    "        output.append(unique_id)\n",
    "        \n",
    "        # Store each of the classification data\n",
    "        classifications.append(output)\n",
    "        "
   ]
  },
  {
   "cell_type": "code",
   "execution_count": 53,
   "metadata": {
    "collapsed": false
   },
   "outputs": [
    {
     "data": {
      "text/plain": [
       "['dsmedley',\n",
       " 239792.0,\n",
       " 'Apprentice - Jump in here for advanced Glitch Classification',\n",
       " u'T1',\n",
       " u'RPTNGBLPS',\n",
       " None,\n",
       " u'UvVoMjBckH']"
      ]
     },
     "execution_count": 53,
     "metadata": {},
     "output_type": "execute_result"
    }
   ],
   "source": [
    "classifications[10000]"
   ]
  }
 ],
 "metadata": {
  "kernelspec": {
   "display_name": "Python 3",
   "language": "python",
   "name": "python3"
  },
  "language_info": {
   "codemirror_mode": {
    "name": "ipython",
    "version": 3
   },
   "file_extension": ".py",
   "mimetype": "text/x-python",
   "name": "python",
   "nbconvert_exporter": "python",
   "pygments_lexer": "ipython3",
   "version": "3.5.1"
  }
 },
 "nbformat": 4,
 "nbformat_minor": 0
}
